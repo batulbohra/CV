{
 "cells": [
  {
   "cell_type": "code",
   "execution_count": 1,
   "id": "2e4a1d31-c83c-4763-893a-ae5b8380e79c",
   "metadata": {},
   "outputs": [],
   "source": [
    "import cv2\n",
    "import hand_track as ht\n",
    "import time\n",
    "import numpy as np\n",
    "import math\n",
    "import mediapipe as mp\n",
    "import autopy"
   ]
  },
  {
   "cell_type": "code",
   "execution_count": 2,
   "id": "eb9034eb-55ac-4561-846c-fc0e2e3f633d",
   "metadata": {},
   "outputs": [],
   "source": [
    "timeP=0\n",
    "px, py = 0, 0\n",
    "thickness = 3\n",
    "eraser_thick = 15\n",
    "canvas = np.zeros((480, 640, 3), np.uint8)\n",
    "color = (255, 0, 0)\n",
    "\n",
    "cam_w, cam_h = 640, 480    # camera parameters\n",
    "scr_w, scr_h = autopy.screen.size()    # screen parameters\n"
   ]
  },
  {
   "cell_type": "code",
   "execution_count": 3,
   "id": "70866642-f0e4-4937-a533-b59896355f44",
   "metadata": {},
   "outputs": [],
   "source": [
    "cap = cv2.VideoCapture(0)\n",
    "tracker = ht.hand_tracker(max_num_hands=1, detection_conf=0.6, tracking_conf=0.7)"
   ]
  },
  {
   "cell_type": "code",
   "execution_count": 4,
   "id": "a3ca426e-2f09-41a7-8035-b1020f611e06",
   "metadata": {},
   "outputs": [],
   "source": [
    "while True:\n",
    "    ret, frame = cap.read()\n",
    "    frame = tracker.detection(frame, draw=False)\n",
    "    lm_coord, bbox = tracker.position(frame, draw=False)\n",
    "    \n",
    "    if len(lm_coord)!=0:\n",
    "        idx_x, idx_y = lm_coord[8][1], lm_coord[8][2]\n",
    "        mid_x, mid_y = lm_coord[12][1], lm_coord[12][2]\n",
    "        \n",
    "        fingers = tracker.fingers_pos()\n",
    "        \n",
    "        # selecting colors\n",
    "        cv2.rectangle(frame, (0,100), (128,50), (255,0,0), cv2.FILLED)\n",
    "        cv2.rectangle(frame, (128,100), (256,50), (0,255,0), cv2.FILLED)\n",
    "        cv2.rectangle(frame, (256,100), (384,50), (0,0,255), cv2.FILLED)\n",
    "        cv2.rectangle(frame, (384,100), (512,50), (255,0,255), cv2.FILLED)\n",
    "        cv2.rectangle(frame, (512,100), (640,50), (0,0,0), cv2.FILLED)\n",
    "        \n",
    "        if fingers[1]==1 and fingers[2]==1:\n",
    "\n",
    "            if 50 < idx_y < 100 :\n",
    "                if 0<idx_x<128 :\n",
    "                    color = (255,0,0)\n",
    "                    thickness = 3\n",
    "                elif 128<idx_x<256 :\n",
    "                    color = (0,255,0)\n",
    "                    thickness = 3\n",
    "                elif 256<idx_x<384 :\n",
    "                    color = (0,0,255)\n",
    "                    thickness = 3\n",
    "                elif 384<idx_x<512 :\n",
    "                    color = (255,0,255)\n",
    "                    thickness = 3\n",
    "                elif 512<idx_x<640:\n",
    "                    color = (0,0,0)\n",
    "                    thickness = eraser_thick\n",
    "            cv2.rectangle(frame, (idx_x, idx_y-20), (mid_x, mid_y+20), (255,255,255), 3)\n",
    "            \n",
    "        \n",
    "        #drawing\n",
    "        if fingers[1]==1 and fingers[2]==0:\n",
    "            cv2.circle(frame, (idx_x, idx_y), 7, color, cv2.FILLED)\n",
    "            \n",
    "            if px==0 and py==0:\n",
    "                px, py = idx_x, idx_y\n",
    "            \n",
    "            cv2.line(frame, (px, py), (idx_x, idx_y), color, thickness)\n",
    "            cv2.line(canvas, (px, py), (idx_x, idx_y), color, thickness)\n",
    "            px, py = idx_x, idx_y\n",
    "\n",
    "        \n",
    "    timeC = time.time()\n",
    "    fps = 1/(timeC-timeP)\n",
    "    timeP = timeC\n",
    "    \n",
    "    cv2.putText(frame, str(int(fps)), (5,50), cv2.FONT_HERSHEY_DUPLEX, 3, (0,255,0), 3)\n",
    "    \n",
    "    frame = cv2.addWeighted(frame, 0.7, canvas, 0.8, 0)\n",
    "    cv2.imshow('frame', frame)\n",
    "    cv2.imshow('canvas', canvas)\n",
    "    \n",
    "    key = cv2.waitKey(1) & 0xFF\n",
    "    if key == ord(\"q\"):\n",
    "        break\n",
    "cv2.destroyAllWindows()"
   ]
  },
  {
   "cell_type": "code",
   "execution_count": null,
   "id": "2086e66c-fd79-4364-8134-b2ed7d19600a",
   "metadata": {},
   "outputs": [],
   "source": []
  },
  {
   "cell_type": "code",
   "execution_count": null,
   "id": "ad6c2f8a-cf7b-431b-ba6a-f77027968948",
   "metadata": {},
   "outputs": [],
   "source": []
  }
 ],
 "metadata": {
  "kernelspec": {
   "display_name": "Python 3",
   "language": "python",
   "name": "python3"
  },
  "language_info": {
   "codemirror_mode": {
    "name": "ipython",
    "version": 3
   },
   "file_extension": ".py",
   "mimetype": "text/x-python",
   "name": "python",
   "nbconvert_exporter": "python",
   "pygments_lexer": "ipython3",
   "version": "3.8.0"
  }
 },
 "nbformat": 4,
 "nbformat_minor": 5
}
