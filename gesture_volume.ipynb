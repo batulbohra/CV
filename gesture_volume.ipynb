{
 "cells": [
  {
   "cell_type": "code",
   "execution_count": 19,
   "metadata": {},
   "outputs": [],
   "source": [
    "import cv2\n",
    "import time\n",
    "import math\n",
    "import mediapipe as mp\n",
    "import numpy as np\n",
    "import hand_track as ht\n",
    "import autopy"
   ]
  },
  {
   "cell_type": "code",
   "execution_count": 20,
   "metadata": {},
   "outputs": [],
   "source": [
    "from ctypes import cast, POINTER\n",
    "from comtypes import CLSCTX_ALL\n",
    "from pycaw.pycaw import AudioUtilities, IAudioEndpointVolume"
   ]
  },
  {
   "cell_type": "code",
   "execution_count": 21,
   "metadata": {},
   "outputs": [],
   "source": [
    "timeP = 0\n",
    "vol_bar=0\n",
    "vol_value=0"
   ]
  },
  {
   "cell_type": "code",
   "execution_count": 22,
   "metadata": {},
   "outputs": [],
   "source": [
    "cap = cv2.VideoCapture(0)\n",
    "tracker = ht.hand_tracker(max_num_hands=1, detection_conf=0.6, tracking_conf=0.7)"
   ]
  },
  {
   "cell_type": "code",
   "execution_count": 23,
   "metadata": {},
   "outputs": [],
   "source": [
    "devices = AudioUtilities.GetSpeakers()\n",
    "interface = devices.Activate(IAudioEndpointVolume._iid_, CLSCTX_ALL, None)\n",
    "volume = cast(interface, POINTER(IAudioEndpointVolume))\n",
    "#volume.GetMute()\n",
    "#volume.GetMasterVolumeLevel()\n",
    "vol_range = volume.GetVolumeRange()\n",
    "min_vol = vol_range[0]\n",
    "max_vol = vol_range[1]\n",
    "#volume.SetMasterVolumeLevel(-20.0, None)"
   ]
  },
  {
   "cell_type": "markdown",
   "metadata": {},
   "source": [
    "volume range is from -65 to 0\n",
    "finger range is from 15 to 112"
   ]
  },
  {
   "cell_type": "code",
   "execution_count": 24,
   "metadata": {},
   "outputs": [],
   "source": [
    "while True:\n",
    "    ret, frame = cap.read()\n",
    "    frame = tracker.detection(frame)\n",
    "    lm_coord, bbox = tracker.position(frame)\n",
    "    \n",
    "    if len(lm_coord)!=0:\n",
    "        idx_x, idx_y = lm_coord[8][1], lm_coord[8][2]\n",
    "        mid_x, mid_y = lm_coord[12][1], lm_coord[12][2]\n",
    "        \n",
    "        cv2.circle(frame, (idx_x, idx_y), 10, (255,255,255), cv2.FILLED)\n",
    "        cv2.circle(frame, (mid_x, mid_y), 10, (255,255,255), cv2.FILLED)\n",
    "        cv2.line(frame, (idx_x, idx_y), (mid_x, mid_y), (255,0,255), 4)\n",
    "    \n",
    "        fingers = tracker.fingers_pos()\n",
    "        \n",
    "        if fingers[1]==1 and fingers[2]==1 :\n",
    "            length, idx2mid_line = tracker.distance(8, 12)\n",
    "            \n",
    "            vol = np.interp(length, [20, 115], [min_vol, max_vol])\n",
    "            vol_bar = np.interp(length, [20, 115], [60, 550])\n",
    "            vol_value = np.interp(length, [20, 115], [0, 100])\n",
    "            \n",
    "            volume.SetMasterVolumeLevel(vol, None)\n",
    "            #print(vol, length)\n",
    "\n",
    "        cv2.rectangle(frame, (60, 400), (550, 415), (255,0,0), 3)\n",
    "        cv2.rectangle(frame, (60, 400), (int(vol_bar), 415), (255,0,0), cv2.FILLED)\n",
    "        cv2.putText(frame, str(int(vol_value)), (555,420), cv2.FONT_HERSHEY_DUPLEX, 1, (255,255,0), 3)\n",
    "        \n",
    "    timeC = time.time()\n",
    "    fps = 1/(timeC-timeP)\n",
    "    timeP = timeC\n",
    "    \n",
    "    cv2.putText(frame, str(int(fps)), (5,50), cv2.FONT_HERSHEY_DUPLEX, 3, (0,255,0), 3)\n",
    "    cv2.imshow('frame', frame)\n",
    "    \n",
    "    key = cv2.waitKey(1) & 0xFF\n",
    "    if key == ord(\"q\"):\n",
    "        break\n",
    "cv2.destroyAllWindows()"
   ]
  },
  {
   "cell_type": "code",
   "execution_count": null,
   "metadata": {},
   "outputs": [],
   "source": []
  }
 ],
 "metadata": {
  "kernelspec": {
   "display_name": "Python 3",
   "language": "python",
   "name": "python3"
  },
  "language_info": {
   "codemirror_mode": {
    "name": "ipython",
    "version": 3
   },
   "file_extension": ".py",
   "mimetype": "text/x-python",
   "name": "python",
   "nbconvert_exporter": "python",
   "pygments_lexer": "ipython3",
   "version": "3.8.0"
  }
 },
 "nbformat": 4,
 "nbformat_minor": 4
}
