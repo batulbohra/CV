{
 "cells": [
  {
   "cell_type": "code",
   "execution_count": 1,
   "id": "4adeee20",
   "metadata": {},
   "outputs": [],
   "source": [
    "import cv2\n",
    "import hand_track as ht\n",
    "import time\n",
    "import numpy as np\n",
    "import math\n",
    "import mediapipe as mp\n",
    "import autopy"
   ]
  },
  {
   "cell_type": "code",
   "execution_count": 2,
   "id": "b0953521",
   "metadata": {
    "tags": []
   },
   "outputs": [],
   "source": [
    "timeP = 0        # past time\n",
    "\n",
    "px, py = 0, 0   # past coordinate of x\n",
    "ctx, cty = 0, 0   # present coordinate of center of Xs\n",
    "\n",
    "red_frame = 130    # parameter by which the frame is reduced\n",
    "\n",
    "smooth = 8    # smoothening parameter\n",
    "loc_px, loc_py = 0, 0     # past location of cursor \n",
    "loc_cx, loc_cy = 0, 0     # present location of cursor\n",
    "\n",
    "cap = cv2.VideoCapture(0)\n",
    "\n",
    "cam_w, cam_h = 640, 480    # camera parameters\n",
    "scr_w, scr_h = autopy.screen.size()    # screen parameters\n",
    "\n",
    "cap.set(3, 640)\n",
    "cap.set(4, 480)\n",
    "\n",
    "tracker = ht.hand_tracker(max_num_hands=1, detection_conf=0.6, tracking_conf=0.7)"
   ]
  },
  {
   "cell_type": "code",
   "execution_count": 3,
   "id": "cad5b6f1",
   "metadata": {
    "tags": []
   },
   "outputs": [],
   "source": [
    "while True:\n",
    "    ret, frame = cap.read()\n",
    "    frame = tracker.detection(frame)\n",
    "    lm_coord, bbox = tracker.position(frame)\n",
    "    \n",
    "    # tip of index and middle fingers\n",
    "    if len(lm_coord)!=0:\n",
    "        idx_x, idx_y = lm_coord[8][1], lm_coord[8][2]\n",
    "        mid_x, mid_y = lm_coord[12][1], lm_coord[12][2]\n",
    "    \n",
    "        fingers = tracker.fingers_pos()\n",
    "    \n",
    "       # for reaching the areas of the screen where hand is not prperly detected, set a reduced frame \n",
    "       #size i.e. reaching the corner of the reduced frame, cursor reaches the corner of actual screen\n",
    "        cv2.rectangle(frame, (red_frame, red_frame), (cam_w-red_frame, cam_h-red_frame), (255,0,255), 3)\n",
    "    \n",
    "        # index finger is moving i.e. moving the mouse\n",
    "        if fingers[1]==1 and fingers[2]==0 :\n",
    "            x0 = np.interp(idx_x, (red_frame, cam_w-red_frame), (0, scr_w))\n",
    "            y0 = np.interp(idx_y, (red_frame, cam_h-red_frame), (0, scr_h))\n",
    "            \n",
    "            # to stop shaking of the cursor, smoothen the cursor movement\n",
    "            loc_cx = loc_px + (x0 - loc_px)/smooth\n",
    "            loc_cy = loc_py + (y0 - loc_py)/smooth\n",
    "            \n",
    "            autopy.mouse.move(scr_w-loc_cx, loc_cy)\n",
    "            cv2.circle(frame, (idx_x, idx_y), 10, (255,255,255), cv2.FILLED)\n",
    "            \n",
    "            loc_px, loc_py = loc_cx, loc_cy\n",
    "            \n",
    "        # index and middle finger moving i.e. clicking with the mouse\n",
    "        if fingers[1]==1 and fingers[2]==1 :\n",
    "            length, idx2mid_line = tracker.distance(8, 12)\n",
    "            if length < 10 :\n",
    "                autopy.mouse.click()\n",
    "                cv2.circle(frame, (idx2mid_line[4], idx2mid_line[5]), 10, (255,0,255), cv2.FILLED)     \n",
    "        \n",
    "    timeC = time.time()\n",
    "    fps = 1/(timeC-timeP)\n",
    "    timeP = timeC\n",
    "    \n",
    "    cv2.putText(frame, str(int(fps)), (5,50), cv2.FONT_HERSHEY_DUPLEX, 3, (0,255,0), 3)\n",
    "    cv2.imshow('frame', frame)\n",
    "    \n",
    "    key = cv2.waitKey(1) & 0xFF\n",
    "    if key == ord(\"q\"):\n",
    "        break\n",
    "cv2.destroyAllWindows()"
   ]
  },
  {
   "cell_type": "code",
   "execution_count": null,
   "id": "f09be575",
   "metadata": {},
   "outputs": [],
   "source": []
  }
 ],
 "metadata": {
  "kernelspec": {
   "display_name": "Python 3",
   "language": "python",
   "name": "python3"
  },
  "language_info": {
   "codemirror_mode": {
    "name": "ipython",
    "version": 3
   },
   "file_extension": ".py",
   "mimetype": "text/x-python",
   "name": "python",
   "nbconvert_exporter": "python",
   "pygments_lexer": "ipython3",
   "version": "3.8.0"
  }
 },
 "nbformat": 4,
 "nbformat_minor": 5
}
